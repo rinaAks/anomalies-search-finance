{
 "cells": [
  {
   "cell_type": "markdown",
   "metadata": {},
   "source": [
    "# Описание наборов данных"
   ]
  },
  {
   "cell_type": "markdown",
   "metadata": {},
   "source": [
    "**Биржа NYSE (сектор здравоохранения - Healthcare).** \n",
    "\n",
    "**Выборка 1:** Признаки EPS Growth (TTM*), Sales Growth (TTM*), **Выборка 2:** Признаки Beta (1y), P/E Ratio. \n",
    "\n",
    "Компании, чья капитализация составляет больше 1 млрд. долларов США\n",
    "\n",
    "**Trailing Twelve Months (TTM)*"
   ]
  },
  {
   "cell_type": "code",
   "execution_count": 1,
   "metadata": {},
   "outputs": [],
   "source": [
    "import yfinance as yf\n",
    "import numpy as np\n",
    "import pandas as pd\n",
    "import matplotlib.pyplot as plt"
   ]
  },
  {
   "cell_type": "markdown",
   "metadata": {},
   "source": [
    "https://finance.yahoo.com/research-hub/screener/most_actives/?start=0&count=100\n",
    "\n",
    "Применила фильтры:\n",
    "\n",
    "Exchange: NYSE, Sector: Healthcare, Market Cap (intraday): больше 1B"
   ]
  },
  {
   "cell_type": "code",
   "execution_count": 2,
   "metadata": {},
   "outputs": [],
   "source": [
    "# список коротких названий компаний\n",
    "ticker_list = ['PFE', 'HLN', 'MDT', 'CVS', 'MRK', \n",
    "               'TEVA', 'AVTR', 'BMY', 'ABT', 'AGL',\n",
    "               'WRBY', 'BSX', 'TDOC', 'NVO', 'JNJ',\n",
    "               'ABBV', 'NVS', 'OSCR', 'EW', 'GSK']"
   ]
  },
  {
   "cell_type": "markdown",
   "metadata": {},
   "source": [
    "Среди полей не было P/E Ratio, наиболее близкое trailingPE\n",
    "\n",
    "Trailing P/E Ratio is calculated by dividing a company's current share price by its most recent reported earnings per share (EPS)"
   ]
  },
  {
   "cell_type": "code",
   "execution_count": 3,
   "metadata": {},
   "outputs": [
    {
     "name": "stdout",
     "output_type": "stream",
     "text": [
      "PFE  -  Pfizer, Inc.\n",
      "HLN  -  Haleon plc\n",
      "MDT  -  Medtronic plc.\n",
      "CVS  -  CVS Health Corporation\n",
      "MRK  -  Merck & Company, Inc.\n",
      "TEVA  -  Teva Pharmaceutical Industries \n",
      "AVTR  -  Avantor, Inc.\n",
      "BMY  -  Bristol-Myers Squibb Company\n",
      "ABT  -  Abbott Laboratories\n",
      "AGL  -  agilon health, inc.\n",
      "WRBY  -  Warby Parker Inc.\n",
      "BSX  -  Boston Scientific Corporation\n",
      "TDOC  -  Teladoc Health, Inc.\n",
      "NVO  -  Novo Nordisk A/S\n",
      "JNJ  -  Johnson & Johnson\n",
      "ABBV  -  AbbVie Inc.\n",
      "NVS  -  Novartis AG\n",
      "OSCR  -  Oscar Health, Inc.\n",
      "EW  -  Edwards Lifesciences Corporatio\n",
      "GSK  -  GSK plc\n"
     ]
    }
   ],
   "source": [
    "# сохраняем нужные столбцы\n",
    "data = []\n",
    "for ticker in ticker_list:\n",
    "    stock = yf.Ticker(ticker)\n",
    "    info = stock.info\n",
    "    \n",
    "    eps_growth = info.get('earningsGrowth', np.nan)   # EPS Growth (TTM)\n",
    "    sales_growth = info.get('revenueGrowth', np.nan)  # Sales Growth (TTM)\n",
    "    beta = info.get('beta', np.nan)                   # Beta (1y)\n",
    "    pe_ratio = info.get('trailingPE', np.nan)         # P/E Ratio\n",
    "    market_cap = info.get('marketCap', 0) / 1e9       # Капитализация\n",
    "    \n",
    "    data.append({\n",
    "        'Company': ticker,\n",
    "        'EPS Growth (TTM)': eps_growth,\n",
    "        'Sales Growth (TTM)': sales_growth,\n",
    "        'Beta (1y)': beta,\n",
    "        'P/E Ratio': pe_ratio,\n",
    "        'MarketCap (B)': market_cap\n",
    "    })\n",
    "    \n",
    "    print(ticker, \" - \", info.get('shortName', 'N/A'))"
   ]
  },
  {
   "cell_type": "code",
   "execution_count": 4,
   "metadata": {},
   "outputs": [
    {
     "data": {
      "text/plain": [
       "'\\nfor ticker in ticker_list:\\n    stock = yf.Ticker(ticker)\\n    info = stock.info\\n    \\n    # PE = stock\\'s share price / the earnings per share (EPS)\\n    print(ticker, \" - \", info.get(\\'trailingPE\\', np.nan))\\n'"
      ]
     },
     "execution_count": 4,
     "metadata": {},
     "output_type": "execute_result"
    }
   ],
   "source": [
    "# Этот код выводит все trailingPE, можно использовать для сравнения с тем, что есть на сайте\n",
    "'''\n",
    "for ticker in ticker_list:\n",
    "    stock = yf.Ticker(ticker)\n",
    "    info = stock.info\n",
    "    \n",
    "    # PE = stock's share price / the earnings per share (EPS)\n",
    "    print(ticker, \" - \", info.get('trailingPE', np.nan))\n",
    "'''"
   ]
  },
  {
   "cell_type": "code",
   "execution_count": 5,
   "metadata": {},
   "outputs": [
    {
     "data": {
      "text/plain": [
       "'\\nstock = yf.Ticker(ticker_list[4])\\ninfo = stock.info\\nprint(info)\\n'"
      ]
     },
     "execution_count": 5,
     "metadata": {},
     "output_type": "execute_result"
    }
   ],
   "source": [
    "# Этот код выводит всю информацию компании TEVA\n",
    "'''\n",
    "stock = yf.Ticker(ticker_list[4])\n",
    "info = stock.info\n",
    "print(info)\n",
    "'''"
   ]
  },
  {
   "cell_type": "code",
   "execution_count": 6,
   "metadata": {},
   "outputs": [],
   "source": [
    "df = pd.DataFrame(data)"
   ]
  },
  {
   "cell_type": "code",
   "execution_count": 7,
   "metadata": {},
   "outputs": [
    {
     "data": {
      "text/html": [
       "<div>\n",
       "<style scoped>\n",
       "    .dataframe tbody tr th:only-of-type {\n",
       "        vertical-align: middle;\n",
       "    }\n",
       "\n",
       "    .dataframe tbody tr th {\n",
       "        vertical-align: top;\n",
       "    }\n",
       "\n",
       "    .dataframe thead th {\n",
       "        text-align: right;\n",
       "    }\n",
       "</style>\n",
       "<table border=\"1\" class=\"dataframe\">\n",
       "  <thead>\n",
       "    <tr style=\"text-align: right;\">\n",
       "      <th></th>\n",
       "      <th>Company</th>\n",
       "      <th>EPS Growth (TTM)</th>\n",
       "      <th>Sales Growth (TTM)</th>\n",
       "      <th>Beta (1y)</th>\n",
       "      <th>P/E Ratio</th>\n",
       "      <th>MarketCap (B)</th>\n",
       "    </tr>\n",
       "  </thead>\n",
       "  <tbody>\n",
       "    <tr>\n",
       "      <th>0</th>\n",
       "      <td>PFE</td>\n",
       "      <td>NaN</td>\n",
       "      <td>0.219</td>\n",
       "      <td>0.543</td>\n",
       "      <td>17.404257</td>\n",
       "      <td>139.177394</td>\n",
       "    </tr>\n",
       "    <tr>\n",
       "      <th>1</th>\n",
       "      <td>HLN</td>\n",
       "      <td>NaN</td>\n",
       "      <td>-0.003</td>\n",
       "      <td>0.227</td>\n",
       "      <td>24.829270</td>\n",
       "      <td>45.984891</td>\n",
       "    </tr>\n",
       "    <tr>\n",
       "      <th>2</th>\n",
       "      <td>MDT</td>\n",
       "      <td>0.019</td>\n",
       "      <td>0.025</td>\n",
       "      <td>0.823</td>\n",
       "      <td>26.978659</td>\n",
       "      <td>113.491968</td>\n",
       "    </tr>\n",
       "    <tr>\n",
       "      <th>3</th>\n",
       "      <td>CVS</td>\n",
       "      <td>-0.178</td>\n",
       "      <td>0.036</td>\n",
       "      <td>0.531</td>\n",
       "      <td>18.573770</td>\n",
       "      <td>85.709185</td>\n",
       "    </tr>\n",
       "    <tr>\n",
       "      <th>4</th>\n",
       "      <td>MRK</td>\n",
       "      <td>NaN</td>\n",
       "      <td>0.068</td>\n",
       "      <td>0.363</td>\n",
       "      <td>12.925817</td>\n",
       "      <td>220.068610</td>\n",
       "    </tr>\n",
       "    <tr>\n",
       "      <th>5</th>\n",
       "      <td>TEVA</td>\n",
       "      <td>NaN</td>\n",
       "      <td>-0.051</td>\n",
       "      <td>0.826</td>\n",
       "      <td>NaN</td>\n",
       "      <td>17.519895</td>\n",
       "    </tr>\n",
       "    <tr>\n",
       "      <th>6</th>\n",
       "      <td>AVTR</td>\n",
       "      <td>4.208</td>\n",
       "      <td>-0.021</td>\n",
       "      <td>1.301</td>\n",
       "      <td>15.192308</td>\n",
       "      <td>10.766468</td>\n",
       "    </tr>\n",
       "    <tr>\n",
       "      <th>7</th>\n",
       "      <td>BMY</td>\n",
       "      <td>-0.959</td>\n",
       "      <td>0.075</td>\n",
       "      <td>0.436</td>\n",
       "      <td>NaN</td>\n",
       "      <td>121.169953</td>\n",
       "    </tr>\n",
       "    <tr>\n",
       "      <th>8</th>\n",
       "      <td>ABT</td>\n",
       "      <td>4.794</td>\n",
       "      <td>0.072</td>\n",
       "      <td>0.693</td>\n",
       "      <td>17.236912</td>\n",
       "      <td>228.392600</td>\n",
       "    </tr>\n",
       "    <tr>\n",
       "      <th>9</th>\n",
       "      <td>AGL</td>\n",
       "      <td>NaN</td>\n",
       "      <td>0.442</td>\n",
       "      <td>0.677</td>\n",
       "      <td>NaN</td>\n",
       "      <td>1.682196</td>\n",
       "    </tr>\n",
       "    <tr>\n",
       "      <th>10</th>\n",
       "      <td>WRBY</td>\n",
       "      <td>NaN</td>\n",
       "      <td>0.178</td>\n",
       "      <td>1.921</td>\n",
       "      <td>NaN</td>\n",
       "      <td>2.228640</td>\n",
       "    </tr>\n",
       "    <tr>\n",
       "      <th>11</th>\n",
       "      <td>BSX</td>\n",
       "      <td>0.120</td>\n",
       "      <td>0.224</td>\n",
       "      <td>0.774</td>\n",
       "      <td>80.992000</td>\n",
       "      <td>149.741044</td>\n",
       "    </tr>\n",
       "    <tr>\n",
       "      <th>12</th>\n",
       "      <td>TDOC</td>\n",
       "      <td>NaN</td>\n",
       "      <td>-0.030</td>\n",
       "      <td>1.272</td>\n",
       "      <td>NaN</td>\n",
       "      <td>1.347695</td>\n",
       "    </tr>\n",
       "    <tr>\n",
       "      <th>13</th>\n",
       "      <td>NVO</td>\n",
       "      <td>0.292</td>\n",
       "      <td>0.301</td>\n",
       "      <td>0.167</td>\n",
       "      <td>20.677810</td>\n",
       "      <td>308.316701</td>\n",
       "    </tr>\n",
       "    <tr>\n",
       "      <th>14</th>\n",
       "      <td>JNJ</td>\n",
       "      <td>-0.034</td>\n",
       "      <td>0.053</td>\n",
       "      <td>0.463</td>\n",
       "      <td>26.468048</td>\n",
       "      <td>369.309516</td>\n",
       "    </tr>\n",
       "    <tr>\n",
       "      <th>15</th>\n",
       "      <td>ABBV</td>\n",
       "      <td>NaN</td>\n",
       "      <td>0.056</td>\n",
       "      <td>0.598</td>\n",
       "      <td>86.305435</td>\n",
       "      <td>364.887507</td>\n",
       "    </tr>\n",
       "    <tr>\n",
       "      <th>16</th>\n",
       "      <td>NVS</td>\n",
       "      <td>-0.656</td>\n",
       "      <td>0.151</td>\n",
       "      <td>0.490</td>\n",
       "      <td>18.641157</td>\n",
       "      <td>219.908342</td>\n",
       "    </tr>\n",
       "    <tr>\n",
       "      <th>17</th>\n",
       "      <td>OSCR</td>\n",
       "      <td>NaN</td>\n",
       "      <td>0.671</td>\n",
       "      <td>1.752</td>\n",
       "      <td>129.700000</td>\n",
       "      <td>3.249867</td>\n",
       "    </tr>\n",
       "    <tr>\n",
       "      <th>18</th>\n",
       "      <td>EW</td>\n",
       "      <td>0.071</td>\n",
       "      <td>0.094</td>\n",
       "      <td>1.123</td>\n",
       "      <td>30.713678</td>\n",
       "      <td>42.098213</td>\n",
       "    </tr>\n",
       "    <tr>\n",
       "      <th>19</th>\n",
       "      <td>GSK</td>\n",
       "      <td>0.173</td>\n",
       "      <td>0.008</td>\n",
       "      <td>0.286</td>\n",
       "      <td>23.521738</td>\n",
       "      <td>76.960170</td>\n",
       "    </tr>\n",
       "  </tbody>\n",
       "</table>\n",
       "</div>"
      ],
      "text/plain": [
       "   Company  EPS Growth (TTM)  Sales Growth (TTM)  Beta (1y)   P/E Ratio  \\\n",
       "0      PFE               NaN               0.219      0.543   17.404257   \n",
       "1      HLN               NaN              -0.003      0.227   24.829270   \n",
       "2      MDT             0.019               0.025      0.823   26.978659   \n",
       "3      CVS            -0.178               0.036      0.531   18.573770   \n",
       "4      MRK               NaN               0.068      0.363   12.925817   \n",
       "5     TEVA               NaN              -0.051      0.826         NaN   \n",
       "6     AVTR             4.208              -0.021      1.301   15.192308   \n",
       "7      BMY            -0.959               0.075      0.436         NaN   \n",
       "8      ABT             4.794               0.072      0.693   17.236912   \n",
       "9      AGL               NaN               0.442      0.677         NaN   \n",
       "10    WRBY               NaN               0.178      1.921         NaN   \n",
       "11     BSX             0.120               0.224      0.774   80.992000   \n",
       "12    TDOC               NaN              -0.030      1.272         NaN   \n",
       "13     NVO             0.292               0.301      0.167   20.677810   \n",
       "14     JNJ            -0.034               0.053      0.463   26.468048   \n",
       "15    ABBV               NaN               0.056      0.598   86.305435   \n",
       "16     NVS            -0.656               0.151      0.490   18.641157   \n",
       "17    OSCR               NaN               0.671      1.752  129.700000   \n",
       "18      EW             0.071               0.094      1.123   30.713678   \n",
       "19     GSK             0.173               0.008      0.286   23.521738   \n",
       "\n",
       "    MarketCap (B)  \n",
       "0      139.177394  \n",
       "1       45.984891  \n",
       "2      113.491968  \n",
       "3       85.709185  \n",
       "4      220.068610  \n",
       "5       17.519895  \n",
       "6       10.766468  \n",
       "7      121.169953  \n",
       "8      228.392600  \n",
       "9        1.682196  \n",
       "10       2.228640  \n",
       "11     149.741044  \n",
       "12       1.347695  \n",
       "13     308.316701  \n",
       "14     369.309516  \n",
       "15     364.887507  \n",
       "16     219.908342  \n",
       "17       3.249867  \n",
       "18      42.098213  \n",
       "19      76.960170  "
      ]
     },
     "execution_count": 7,
     "metadata": {},
     "output_type": "execute_result"
    }
   ],
   "source": [
    "df.head(20)"
   ]
  },
  {
   "cell_type": "code",
   "execution_count": 8,
   "metadata": {},
   "outputs": [
    {
     "name": "stdout",
     "output_type": "stream",
     "text": [
      "<class 'pandas.core.frame.DataFrame'>\n",
      "RangeIndex: 20 entries, 0 to 19\n",
      "Data columns (total 6 columns):\n",
      " #   Column              Non-Null Count  Dtype  \n",
      "---  ------              --------------  -----  \n",
      " 0   Company             20 non-null     object \n",
      " 1   EPS Growth (TTM)    11 non-null     float64\n",
      " 2   Sales Growth (TTM)  20 non-null     float64\n",
      " 3   Beta (1y)           20 non-null     float64\n",
      " 4   P/E Ratio           15 non-null     float64\n",
      " 5   MarketCap (B)       20 non-null     float64\n",
      "dtypes: float64(5), object(1)\n",
      "memory usage: 1.1+ KB\n"
     ]
    }
   ],
   "source": [
    "df.info()"
   ]
  },
  {
   "cell_type": "markdown",
   "metadata": {},
   "source": [
    "По параметрам P/E Ratio и EPS Growth есть много пропусков. Заполним недостающие значения данными с сайта ivesting.com. Заполним те, где был только 1 пропуск"
   ]
  },
  {
   "cell_type": "code",
   "execution_count": 9,
   "metadata": {},
   "outputs": [],
   "source": [
    "df.at[0, 'EPS Growth (TTM)'] = 0.2776  # PFE\n",
    "df.at[4, 'EPS Growth (TTM)'] = 4.5989 # MRK\n",
    "# было ещё несколько с одним пропуском, но среди топ 300 на investing их не было.."
   ]
  },
  {
   "cell_type": "code",
   "execution_count": 10,
   "metadata": {},
   "outputs": [
    {
     "data": {
      "text/html": [
       "<div>\n",
       "<style scoped>\n",
       "    .dataframe tbody tr th:only-of-type {\n",
       "        vertical-align: middle;\n",
       "    }\n",
       "\n",
       "    .dataframe tbody tr th {\n",
       "        vertical-align: top;\n",
       "    }\n",
       "\n",
       "    .dataframe thead th {\n",
       "        text-align: right;\n",
       "    }\n",
       "</style>\n",
       "<table border=\"1\" class=\"dataframe\">\n",
       "  <thead>\n",
       "    <tr style=\"text-align: right;\">\n",
       "      <th></th>\n",
       "      <th>Company</th>\n",
       "      <th>EPS Growth (TTM)</th>\n",
       "      <th>Sales Growth (TTM)</th>\n",
       "      <th>Beta (1y)</th>\n",
       "      <th>P/E Ratio</th>\n",
       "      <th>MarketCap (B)</th>\n",
       "    </tr>\n",
       "  </thead>\n",
       "  <tbody>\n",
       "    <tr>\n",
       "      <th>0</th>\n",
       "      <td>PFE</td>\n",
       "      <td>0.2776</td>\n",
       "      <td>0.219</td>\n",
       "      <td>0.543</td>\n",
       "      <td>17.404257</td>\n",
       "      <td>139.177394</td>\n",
       "    </tr>\n",
       "    <tr>\n",
       "      <th>1</th>\n",
       "      <td>HLN</td>\n",
       "      <td>NaN</td>\n",
       "      <td>-0.003</td>\n",
       "      <td>0.227</td>\n",
       "      <td>24.829270</td>\n",
       "      <td>45.984891</td>\n",
       "    </tr>\n",
       "    <tr>\n",
       "      <th>2</th>\n",
       "      <td>MDT</td>\n",
       "      <td>0.0190</td>\n",
       "      <td>0.025</td>\n",
       "      <td>0.823</td>\n",
       "      <td>26.978659</td>\n",
       "      <td>113.491968</td>\n",
       "    </tr>\n",
       "    <tr>\n",
       "      <th>3</th>\n",
       "      <td>CVS</td>\n",
       "      <td>-0.1780</td>\n",
       "      <td>0.036</td>\n",
       "      <td>0.531</td>\n",
       "      <td>18.573770</td>\n",
       "      <td>85.709185</td>\n",
       "    </tr>\n",
       "    <tr>\n",
       "      <th>4</th>\n",
       "      <td>MRK</td>\n",
       "      <td>4.5989</td>\n",
       "      <td>0.068</td>\n",
       "      <td>0.363</td>\n",
       "      <td>12.925817</td>\n",
       "      <td>220.068610</td>\n",
       "    </tr>\n",
       "    <tr>\n",
       "      <th>5</th>\n",
       "      <td>TEVA</td>\n",
       "      <td>NaN</td>\n",
       "      <td>-0.051</td>\n",
       "      <td>0.826</td>\n",
       "      <td>NaN</td>\n",
       "      <td>17.519895</td>\n",
       "    </tr>\n",
       "    <tr>\n",
       "      <th>6</th>\n",
       "      <td>AVTR</td>\n",
       "      <td>4.2080</td>\n",
       "      <td>-0.021</td>\n",
       "      <td>1.301</td>\n",
       "      <td>15.192308</td>\n",
       "      <td>10.766468</td>\n",
       "    </tr>\n",
       "    <tr>\n",
       "      <th>7</th>\n",
       "      <td>BMY</td>\n",
       "      <td>-0.9590</td>\n",
       "      <td>0.075</td>\n",
       "      <td>0.436</td>\n",
       "      <td>NaN</td>\n",
       "      <td>121.169953</td>\n",
       "    </tr>\n",
       "    <tr>\n",
       "      <th>8</th>\n",
       "      <td>ABT</td>\n",
       "      <td>4.7940</td>\n",
       "      <td>0.072</td>\n",
       "      <td>0.693</td>\n",
       "      <td>17.236912</td>\n",
       "      <td>228.392600</td>\n",
       "    </tr>\n",
       "    <tr>\n",
       "      <th>9</th>\n",
       "      <td>AGL</td>\n",
       "      <td>NaN</td>\n",
       "      <td>0.442</td>\n",
       "      <td>0.677</td>\n",
       "      <td>NaN</td>\n",
       "      <td>1.682196</td>\n",
       "    </tr>\n",
       "    <tr>\n",
       "      <th>10</th>\n",
       "      <td>WRBY</td>\n",
       "      <td>NaN</td>\n",
       "      <td>0.178</td>\n",
       "      <td>1.921</td>\n",
       "      <td>NaN</td>\n",
       "      <td>2.228640</td>\n",
       "    </tr>\n",
       "    <tr>\n",
       "      <th>11</th>\n",
       "      <td>BSX</td>\n",
       "      <td>0.1200</td>\n",
       "      <td>0.224</td>\n",
       "      <td>0.774</td>\n",
       "      <td>80.992000</td>\n",
       "      <td>149.741044</td>\n",
       "    </tr>\n",
       "    <tr>\n",
       "      <th>12</th>\n",
       "      <td>TDOC</td>\n",
       "      <td>NaN</td>\n",
       "      <td>-0.030</td>\n",
       "      <td>1.272</td>\n",
       "      <td>NaN</td>\n",
       "      <td>1.347695</td>\n",
       "    </tr>\n",
       "    <tr>\n",
       "      <th>13</th>\n",
       "      <td>NVO</td>\n",
       "      <td>0.2920</td>\n",
       "      <td>0.301</td>\n",
       "      <td>0.167</td>\n",
       "      <td>20.677810</td>\n",
       "      <td>308.316701</td>\n",
       "    </tr>\n",
       "    <tr>\n",
       "      <th>14</th>\n",
       "      <td>JNJ</td>\n",
       "      <td>-0.0340</td>\n",
       "      <td>0.053</td>\n",
       "      <td>0.463</td>\n",
       "      <td>26.468048</td>\n",
       "      <td>369.309516</td>\n",
       "    </tr>\n",
       "    <tr>\n",
       "      <th>15</th>\n",
       "      <td>ABBV</td>\n",
       "      <td>NaN</td>\n",
       "      <td>0.056</td>\n",
       "      <td>0.598</td>\n",
       "      <td>86.305435</td>\n",
       "      <td>364.887507</td>\n",
       "    </tr>\n",
       "    <tr>\n",
       "      <th>16</th>\n",
       "      <td>NVS</td>\n",
       "      <td>-0.6560</td>\n",
       "      <td>0.151</td>\n",
       "      <td>0.490</td>\n",
       "      <td>18.641157</td>\n",
       "      <td>219.908342</td>\n",
       "    </tr>\n",
       "    <tr>\n",
       "      <th>17</th>\n",
       "      <td>OSCR</td>\n",
       "      <td>NaN</td>\n",
       "      <td>0.671</td>\n",
       "      <td>1.752</td>\n",
       "      <td>129.700000</td>\n",
       "      <td>3.249867</td>\n",
       "    </tr>\n",
       "    <tr>\n",
       "      <th>18</th>\n",
       "      <td>EW</td>\n",
       "      <td>0.0710</td>\n",
       "      <td>0.094</td>\n",
       "      <td>1.123</td>\n",
       "      <td>30.713678</td>\n",
       "      <td>42.098213</td>\n",
       "    </tr>\n",
       "    <tr>\n",
       "      <th>19</th>\n",
       "      <td>GSK</td>\n",
       "      <td>0.1730</td>\n",
       "      <td>0.008</td>\n",
       "      <td>0.286</td>\n",
       "      <td>23.521738</td>\n",
       "      <td>76.960170</td>\n",
       "    </tr>\n",
       "  </tbody>\n",
       "</table>\n",
       "</div>"
      ],
      "text/plain": [
       "   Company  EPS Growth (TTM)  Sales Growth (TTM)  Beta (1y)   P/E Ratio  \\\n",
       "0      PFE            0.2776               0.219      0.543   17.404257   \n",
       "1      HLN               NaN              -0.003      0.227   24.829270   \n",
       "2      MDT            0.0190               0.025      0.823   26.978659   \n",
       "3      CVS           -0.1780               0.036      0.531   18.573770   \n",
       "4      MRK            4.5989               0.068      0.363   12.925817   \n",
       "5     TEVA               NaN              -0.051      0.826         NaN   \n",
       "6     AVTR            4.2080              -0.021      1.301   15.192308   \n",
       "7      BMY           -0.9590               0.075      0.436         NaN   \n",
       "8      ABT            4.7940               0.072      0.693   17.236912   \n",
       "9      AGL               NaN               0.442      0.677         NaN   \n",
       "10    WRBY               NaN               0.178      1.921         NaN   \n",
       "11     BSX            0.1200               0.224      0.774   80.992000   \n",
       "12    TDOC               NaN              -0.030      1.272         NaN   \n",
       "13     NVO            0.2920               0.301      0.167   20.677810   \n",
       "14     JNJ           -0.0340               0.053      0.463   26.468048   \n",
       "15    ABBV               NaN               0.056      0.598   86.305435   \n",
       "16     NVS           -0.6560               0.151      0.490   18.641157   \n",
       "17    OSCR               NaN               0.671      1.752  129.700000   \n",
       "18      EW            0.0710               0.094      1.123   30.713678   \n",
       "19     GSK            0.1730               0.008      0.286   23.521738   \n",
       "\n",
       "    MarketCap (B)  \n",
       "0      139.177394  \n",
       "1       45.984891  \n",
       "2      113.491968  \n",
       "3       85.709185  \n",
       "4      220.068610  \n",
       "5       17.519895  \n",
       "6       10.766468  \n",
       "7      121.169953  \n",
       "8      228.392600  \n",
       "9        1.682196  \n",
       "10       2.228640  \n",
       "11     149.741044  \n",
       "12       1.347695  \n",
       "13     308.316701  \n",
       "14     369.309516  \n",
       "15     364.887507  \n",
       "16     219.908342  \n",
       "17       3.249867  \n",
       "18      42.098213  \n",
       "19      76.960170  "
      ]
     },
     "execution_count": 10,
     "metadata": {},
     "output_type": "execute_result"
    }
   ],
   "source": [
    "df.head(20)"
   ]
  },
  {
   "cell_type": "markdown",
   "metadata": {},
   "source": [
    "Остальные выкидываем"
   ]
  },
  {
   "cell_type": "code",
   "execution_count": 11,
   "metadata": {},
   "outputs": [],
   "source": [
    "df = df.dropna()"
   ]
  },
  {
   "cell_type": "code",
   "execution_count": 12,
   "metadata": {},
   "outputs": [
    {
     "data": {
      "text/plain": [
       "Company               12\n",
       "EPS Growth (TTM)      12\n",
       "Sales Growth (TTM)    12\n",
       "Beta (1y)             12\n",
       "P/E Ratio             12\n",
       "MarketCap (B)         12\n",
       "dtype: int64"
      ]
     },
     "execution_count": 12,
     "metadata": {},
     "output_type": "execute_result"
    }
   ],
   "source": [
    "df.count()"
   ]
  },
  {
   "cell_type": "markdown",
   "metadata": {},
   "source": [
    "Разделим на две выборки"
   ]
  },
  {
   "cell_type": "code",
   "execution_count": 13,
   "metadata": {},
   "outputs": [],
   "source": [
    "# 1: Признаки EPS Growth (TTM), Sales Growth (TTM)\n",
    "# 2: Признаки Beta (1y), P/E Ratio\n",
    "df1 = df[['Company', 'EPS Growth (TTM)', 'Sales Growth (TTM)']]\n",
    "df2 = df[['Company', 'Beta (1y)', 'P/E Ratio']]"
   ]
  },
  {
   "cell_type": "markdown",
   "metadata": {},
   "source": [
    "# Выявление аномалий"
   ]
  },
  {
   "cell_type": "markdown",
   "metadata": {},
   "source": [
    "Методы:\n",
    "1. Одноклассовый метод опорных векторов (SVM)\n",
    "2. Эллиптическая оболочка (Elliptic Envelope)\n",
    "3. Фактор локального выброса (Local outlier factor)\n",
    "4. Изолированный лес (Isolation forest)"
   ]
  },
  {
   "cell_type": "code",
   "execution_count": 14,
   "metadata": {},
   "outputs": [],
   "source": [
    "from sklearn.svm import OneClassSVM\n",
    "from sklearn.covariance import EllipticEnvelope\n",
    "from sklearn.neighbors import LocalOutlierFactor\n",
    "from sklearn.ensemble import IsolationForest\n",
    "from sklearn.preprocessing import StandardScaler"
   ]
  },
  {
   "cell_type": "markdown",
   "metadata": {},
   "source": [
    "## Параметры 1\n",
    "\n",
    "EPS Growth (TTM), Sales Growth (TTM)"
   ]
  },
  {
   "cell_type": "markdown",
   "metadata": {},
   "source": [
    "### Параметры оценщиков, использованные для анализа"
   ]
  },
  {
   "cell_type": "code",
   "execution_count": 15,
   "metadata": {},
   "outputs": [],
   "source": [
    "features = ['EPS Growth (TTM)', 'Sales Growth (TTM)']\n",
    "X = df1[features].values\n",
    "scaler = StandardScaler()\n",
    "X_scaled = scaler.fit_transform(X)"
   ]
  },
  {
   "cell_type": "markdown",
   "metadata": {},
   "source": [
    "LocalOutlierFactor без параметра contamination плохо работал, на остальных методах значения параметров как будто не влияли. Возможно это из-за малого количества данных."
   ]
  },
  {
   "cell_type": "code",
   "execution_count": 16,
   "metadata": {},
   "outputs": [],
   "source": [
    "estimators = {\n",
    "    'One-Class SVM': OneClassSVM(nu=0.1),\n",
    "    'Elliptic Envelope': EllipticEnvelope(contamination=0.1),\n",
    "    'Local Outlier Factor': LocalOutlierFactor(n_neighbors=11, contamination=0.1),\n",
    "    'Isolation Forest': IsolationForest(contamination=0.1)\n",
    "}\n",
    "\n",
    "results = {}\n",
    "for name, estimator in estimators.items():\n",
    "    if name == 'Local Outlier Factor':\n",
    "        results[name] = estimator.fit_predict(X_scaled)\n",
    "    else:\n",
    "        results[name] = estimator.fit(X_scaled).predict(X_scaled)"
   ]
  },
  {
   "cell_type": "markdown",
   "metadata": {},
   "source": [
    "### Диаграммы разброса"
   ]
  },
  {
   "cell_type": "code",
   "execution_count": 17,
   "metadata": {},
   "outputs": [
    {
     "data": {
      "image/png": "[encoded data removed]",
      "text/plain": [
       "<Figure size 1500x1000 with 4 Axes>"
      ]
     },
     "metadata": {},
     "output_type": "display_data"
    }
   ],
   "source": [
    "plt.figure(figsize=(15, 10))\n",
    "for i, (name, pred) in enumerate(results.items(), 1):\n",
    "    plt.subplot(2, 2, i)\n",
    "    plt.scatter(X[:, 0], X[:, 1], c=pred)\n",
    "    plt.title(\"Выборка 1, \" + name)\n",
    "    plt.xlabel(features[0])\n",
    "    plt.ylabel(features[1])"
   ]
  },
  {
   "cell_type": "markdown",
   "metadata": {},
   "source": [
    "### Ансамблирование и подсчёт аномалий"
   ]
  },
  {
   "cell_type": "code",
   "execution_count": 18,
   "metadata": {},
   "outputs": [],
   "source": [
    "ensemble_votes = np.array([results[name] for name in estimators.keys()]).T\n",
    "ensemble_result = []\n",
    "for row in ensemble_votes:\n",
    "    outlier_count = np.sum(row == -1)\n",
    "    if outlier_count >= 3:\n",
    "        ensemble_result.append(3)  # Аномалия\n",
    "    elif outlier_count == 2:\n",
    "        ensemble_result.append(2)   # Подозрение 2\n",
    "    elif outlier_count == 1:\n",
    "        ensemble_result.append(1)   # Подозрение 1\n",
    "    else:\n",
    "        ensemble_result.append(0)   # Нормальные данные"
   ]
  },
  {
   "cell_type": "code",
   "execution_count": 19,
   "metadata": {},
   "outputs": [
    {
     "name": "stdout",
     "output_type": "stream",
     "text": [
      "Аномалии :  []\n",
      "Подозрительные для двоих:  ['NVO']\n",
      "Подозрительные для одного:  ['MRK', 'AVTR', 'ABT', 'JNJ', 'EW', 'GSK']\n"
     ]
    },
    {
     "name": "stderr",
     "output_type": "stream",
     "text": [
      "C:\\Users\\Asus\\AppData\\Local\\Temp\\ipykernel_5332\\2312458526.py:1: SettingWithCopyWarning: \n",
      "A value is trying to be set on a copy of a slice from a DataFrame.\n",
      "Try using .loc[row_indexer,col_indexer] = value instead\n",
      "\n",
      "See the caveats in the documentation: https://pandas.pydata.org/pandas-docs/stable/user_guide/indexing.html#returning-a-view-versus-a-copy\n",
      "  df1['Ensemble'] = ensemble_result\n"
     ]
    }
   ],
   "source": [
    "df1['Ensemble'] = ensemble_result\n",
    "anomalies = df1[df1['Ensemble'] == 3]['Company'].tolist()\n",
    "suspicious2 = df1[df1['Ensemble'] == 2]['Company'].tolist()\n",
    "suspicious1 = df1[df1['Ensemble'] == 1]['Company'].tolist()\n",
    "print(\"Аномалии : \", anomalies)        # все выбрали как аномальное\n",
    "print(\"Подозрительные для двоих: \", suspicious2)  # аномальным считают двое\n",
    "print(\"Подозрительные для одного: \", suspicious1)  # аномальным считает хотя бы один"
   ]
  },
  {
   "cell_type": "code",
   "execution_count": null,
   "metadata": {},
   "outputs": [
    {
     "data": {
      "image/png": "[encoded data removed]",
      "text/plain": [
       "<Figure size 500x300 with 1 Axes>"
      ]
     },
     "metadata": {},
     "output_type": "display_data"
    }
   ],
   "source": [
    "# Визуализация ансамбля\n",
    "plt.figure(figsize=(5, 3))\n",
    "plt.scatter(X[:, 0], X[:, 1], c = ensemble_result)\n",
    "plt.title(\"Выборка 1, ансамбль\")\n",
    "plt.xlabel(features[0])\n",
    "plt.ylabel(features[1])\n",
    "plt.tight_layout()\n",
    "plt.show()"
   ]
  },
  {
   "cell_type": "markdown",
   "metadata": {},
   "source": [
    "## Параметры 2\n",
    "\n",
    "Beta (1y), P/E Ratio"
   ]
  },
  {
   "cell_type": "markdown",
   "metadata": {},
   "source": [
    "### Параметры оценщиков, использованные для анализа"
   ]
  },
  {
   "cell_type": "code",
   "execution_count": 21,
   "metadata": {},
   "outputs": [],
   "source": [
    "features = ['P/E Ratio','Beta (1y)']\n",
    "X = df2[features].values\n",
    "scaler = StandardScaler()\n",
    "X_scaled = scaler.fit_transform(X)"
   ]
  },
  {
   "cell_type": "code",
   "execution_count": 22,
   "metadata": {},
   "outputs": [],
   "source": [
    "estimators = {\n",
    "    'One-Class SVM': OneClassSVM(nu=0.1),\n",
    "    'Elliptic Envelope': EllipticEnvelope(contamination=0.1),\n",
    "    'Local Outlier Factor': LocalOutlierFactor(n_neighbors=11, contamination=0.1),\n",
    "    'Isolation Forest': IsolationForest(contamination=0.1)\n",
    "}\n",
    "\n",
    "results = {}\n",
    "for name, estimator in estimators.items():\n",
    "    if name == 'Local Outlier Factor':\n",
    "        results[name] = estimator.fit_predict(X_scaled)\n",
    "    else:\n",
    "        results[name] = estimator.fit(X_scaled).predict(X_scaled)"
   ]
  },
  {
   "cell_type": "markdown",
   "metadata": {},
   "source": [
    "### Диаграммы разброса"
   ]
  },
  {
   "cell_type": "code",
   "execution_count": 23,
   "metadata": {},
   "outputs": [
    {
     "data": {
      "image/png": "[encoded data removed]",
      "text/plain": [
       "<Figure size 1500x1000 with 4 Axes>"
      ]
     },
     "metadata": {},
     "output_type": "display_data"
    }
   ],
   "source": [
    "plt.figure(figsize=(15, 10))\n",
    "for i, (name, pred) in enumerate(results.items(), 1):\n",
    "    plt.subplot(2, 2, i)\n",
    "    plt.scatter(X[:, 0], X[:, 1], c=pred)\n",
    "    plt.title(\"Выборка 2, \" + name)\n",
    "    plt.xlabel(features[0])\n",
    "    plt.ylabel(features[1])"
   ]
  },
  {
   "cell_type": "markdown",
   "metadata": {},
   "source": [
    "Интересно, что Local outlier factor не сочёл за аномальную правую одинокую точку. "
   ]
  },
  {
   "cell_type": "markdown",
   "metadata": {},
   "source": [
    "### Ансамблирование и подсчёт аномалий"
   ]
  },
  {
   "cell_type": "code",
   "execution_count": 24,
   "metadata": {},
   "outputs": [],
   "source": [
    "ensemble_votes = np.array([results[name] for name in estimators.keys()]).T\n",
    "ensemble_result = []\n",
    "for row in ensemble_votes:\n",
    "    outlier_count = np.sum(row == -1)\n",
    "    if outlier_count >= 3:\n",
    "        ensemble_result.append(3)  # Аномалия\n",
    "    elif outlier_count == 2:\n",
    "        ensemble_result.append(2)   # Подозрение 2\n",
    "    elif outlier_count == 1:\n",
    "        ensemble_result.append(1)   # Подозрение 1\n",
    "    else:\n",
    "        ensemble_result.append(0)   # Нормальные данные"
   ]
  },
  {
   "cell_type": "code",
   "execution_count": 25,
   "metadata": {},
   "outputs": [
    {
     "name": "stdout",
     "output_type": "stream",
     "text": [
      "Аномалии :  ['AVTR', 'BSX']\n",
      "Подозрительные для двоих:  []\n",
      "Подозрительные для одного:  ['MDT', 'ABT', 'NVO', 'EW']\n"
     ]
    },
    {
     "name": "stderr",
     "output_type": "stream",
     "text": [
      "C:\\Users\\Asus\\AppData\\Local\\Temp\\ipykernel_5332\\2312458526.py:1: SettingWithCopyWarning: \n",
      "A value is trying to be set on a copy of a slice from a DataFrame.\n",
      "Try using .loc[row_indexer,col_indexer] = value instead\n",
      "\n",
      "See the caveats in the documentation: https://pandas.pydata.org/pandas-docs/stable/user_guide/indexing.html#returning-a-view-versus-a-copy\n",
      "  df1['Ensemble'] = ensemble_result\n"
     ]
    }
   ],
   "source": [
    "df1['Ensemble'] = ensemble_result\n",
    "anomalies = df1[df1['Ensemble'] == 3]['Company'].tolist()\n",
    "suspicious2 = df1[df1['Ensemble'] == 2]['Company'].tolist()\n",
    "suspicious1 = df1[df1['Ensemble'] == 1]['Company'].tolist()\n",
    "print(\"Аномалии : \", anomalies)        # все выбрали как аномальное\n",
    "print(\"Подозрительные для двоих: \", suspicious2)  # аномальным считают двое\n",
    "print(\"Подозрительные для одного: \", suspicious1)  # аномальным считает хотя бы один"
   ]
  },
  {
   "cell_type": "code",
   "execution_count": null,
   "metadata": {},
   "outputs": [
    {
     "data": {
      "image/png": "[encoded data removed]",
      "text/plain": [
       "<Figure size 500x300 with 1 Axes>"
      ]
     },
     "metadata": {},
     "output_type": "display_data"
    }
   ],
   "source": [
    "# Визуализация ансамбля\n",
    "plt.figure(figsize=(5, 3))\n",
    "plt.scatter(X[:, 0], X[:, 1], c = ensemble_result)\n",
    "plt.title(\"Выборка 2, ансамбль\")\n",
    "plt.xlabel(features[0])\n",
    "plt.ylabel(features[1])\n",
    "plt.tight_layout()\n",
    "plt.show()"
   ]
  },
  {
   "cell_type": "markdown",
   "metadata": {},
   "source": [
    "# Выводы"
   ]
  },
  {
   "cell_type": "markdown",
   "metadata": {},
   "source": [
    "**Результаты по параметрам EPS Growth (TTM), Sales Growth (TTM)**\n",
    "\n",
    "* Аномалии :  []\n",
    "* Подозрительные для двоих:  ['NVO']\n",
    "* Подозрительные для одного:  ['MRK', 'AVTR', 'ABT', 'JNJ', 'EW', 'GSK']"
   ]
  },
  {
   "cell_type": "markdown",
   "metadata": {},
   "source": [
    "**Результаты по параметрам P/E Ratio, Beta (1y)**\n",
    "\n",
    "* Аномалии :  ['AVTR', 'BSX']\n",
    "* Подозрительные для двоих:  []\n",
    "* Подозрительные для одного:  ['MDT', 'ABT', 'NVO', 'EW']"
   ]
  },
  {
   "cell_type": "markdown",
   "metadata": {},
   "source": [
    "По обеим группам параметров в выбросы/подозрения попали: AVTR, ABT, NVO, EW."
   ]
  }
 ],
 "metadata": {
  "kernelspec": {
   "display_name": "Python 3",
   "language": "python",
   "name": "python3"
  },
  "language_info": {
   "codemirror_mode": {
    "name": "ipython",
    "version": 3
   },
   "file_extension": ".py",
   "mimetype": "text/x-python",
   "name": "python",
   "nbconvert_exporter": "python",
   "pygments_lexer": "ipython3",
   "version": "3.12.6"
  }
 },
 "nbformat": 4,
 "nbformat_minor": 2
}
